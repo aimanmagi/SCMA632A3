{
 "cells": [
  {
   "cell_type": "markdown",
   "id": "119363ae",
   "metadata": {},
   "source": [
    "## A3c : Fitting Tobit Model\n",
    "                    Aiman Magi\n",
    "                    V01106546"
   ]
  },
  {
   "cell_type": "code",
   "execution_count": 17,
   "id": "725250d2",
   "metadata": {},
   "outputs": [],
   "source": [
    "import numpy as np\n",
    "import pandas as pd\n",
    "import statsmodels.api as sm\n",
    "from scipy.stats import norm\n",
    "from statsmodels.base.model import GenericLikelihoodModel"
   ]
  },
  {
   "cell_type": "code",
   "execution_count": 19,
   "id": "60d87cec",
   "metadata": {},
   "outputs": [
    {
     "name": "stderr",
     "output_type": "stream",
     "text": [
      "/var/folders/k7/s0m9tqj95w31nsksdy12g29w0000gn/T/ipykernel_35876/795237538.py:2: DtypeWarning: Columns (1) have mixed types. Specify dtype option on import or set low_memory=False.\n",
      "  df = pd.read_csv(\"/Users/aimanmagi/Desktop/R/NSSO68.csv\")\n"
     ]
    },
    {
     "data": {
      "text/html": [
       "<div>\n",
       "<style scoped>\n",
       "    .dataframe tbody tr th:only-of-type {\n",
       "        vertical-align: middle;\n",
       "    }\n",
       "\n",
       "    .dataframe tbody tr th {\n",
       "        vertical-align: top;\n",
       "    }\n",
       "\n",
       "    .dataframe thead th {\n",
       "        text-align: right;\n",
       "    }\n",
       "</style>\n",
       "<table border=\"1\" class=\"dataframe\">\n",
       "  <thead>\n",
       "    <tr style=\"text-align: right;\">\n",
       "      <th></th>\n",
       "      <th>slno</th>\n",
       "      <th>grp</th>\n",
       "      <th>Round_Centre</th>\n",
       "      <th>FSU_number</th>\n",
       "      <th>Round</th>\n",
       "      <th>Schedule_Number</th>\n",
       "      <th>Sample</th>\n",
       "      <th>Sector</th>\n",
       "      <th>state</th>\n",
       "      <th>State_Region</th>\n",
       "      <th>...</th>\n",
       "      <th>pickle_v</th>\n",
       "      <th>sauce_jam_v</th>\n",
       "      <th>Othrprocessed_v</th>\n",
       "      <th>Beveragestotal_v</th>\n",
       "      <th>foodtotal_v</th>\n",
       "      <th>foodtotal_q</th>\n",
       "      <th>state_1</th>\n",
       "      <th>Region</th>\n",
       "      <th>fruits_df_tt_v</th>\n",
       "      <th>fv_tot</th>\n",
       "    </tr>\n",
       "  </thead>\n",
       "  <tbody>\n",
       "    <tr>\n",
       "      <th>0</th>\n",
       "      <td>1</td>\n",
       "      <td>40999999999999992652495293775872.0</td>\n",
       "      <td>1</td>\n",
       "      <td>41000</td>\n",
       "      <td>68</td>\n",
       "      <td>10</td>\n",
       "      <td>1</td>\n",
       "      <td>2</td>\n",
       "      <td>24</td>\n",
       "      <td>242</td>\n",
       "      <td>...</td>\n",
       "      <td>0.0</td>\n",
       "      <td>0.0</td>\n",
       "      <td>0.0</td>\n",
       "      <td>0.000000</td>\n",
       "      <td>1141.492400</td>\n",
       "      <td>30.942394</td>\n",
       "      <td>GUJ</td>\n",
       "      <td>2</td>\n",
       "      <td>12.000000</td>\n",
       "      <td>154.18</td>\n",
       "    </tr>\n",
       "    <tr>\n",
       "      <th>1</th>\n",
       "      <td>2</td>\n",
       "      <td>40999999999999992652495293775872.0</td>\n",
       "      <td>1</td>\n",
       "      <td>41000</td>\n",
       "      <td>68</td>\n",
       "      <td>10</td>\n",
       "      <td>1</td>\n",
       "      <td>2</td>\n",
       "      <td>24</td>\n",
       "      <td>242</td>\n",
       "      <td>...</td>\n",
       "      <td>0.0</td>\n",
       "      <td>0.0</td>\n",
       "      <td>0.0</td>\n",
       "      <td>17.500000</td>\n",
       "      <td>1244.553500</td>\n",
       "      <td>29.286153</td>\n",
       "      <td>GUJ</td>\n",
       "      <td>2</td>\n",
       "      <td>333.000000</td>\n",
       "      <td>484.95</td>\n",
       "    </tr>\n",
       "    <tr>\n",
       "      <th>2</th>\n",
       "      <td>3</td>\n",
       "      <td>40999999999999992652495293775872.0</td>\n",
       "      <td>1</td>\n",
       "      <td>41000</td>\n",
       "      <td>68</td>\n",
       "      <td>10</td>\n",
       "      <td>1</td>\n",
       "      <td>2</td>\n",
       "      <td>24</td>\n",
       "      <td>242</td>\n",
       "      <td>...</td>\n",
       "      <td>0.0</td>\n",
       "      <td>0.0</td>\n",
       "      <td>0.0</td>\n",
       "      <td>0.000000</td>\n",
       "      <td>1050.315400</td>\n",
       "      <td>31.527046</td>\n",
       "      <td>GUJ</td>\n",
       "      <td>2</td>\n",
       "      <td>35.000000</td>\n",
       "      <td>214.84</td>\n",
       "    </tr>\n",
       "    <tr>\n",
       "      <th>3</th>\n",
       "      <td>4</td>\n",
       "      <td>40999999999999992652495293775872.0</td>\n",
       "      <td>1</td>\n",
       "      <td>41000</td>\n",
       "      <td>68</td>\n",
       "      <td>10</td>\n",
       "      <td>1</td>\n",
       "      <td>2</td>\n",
       "      <td>24</td>\n",
       "      <td>242</td>\n",
       "      <td>...</td>\n",
       "      <td>0.0</td>\n",
       "      <td>0.0</td>\n",
       "      <td>0.0</td>\n",
       "      <td>33.333333</td>\n",
       "      <td>1142.591667</td>\n",
       "      <td>27.834607</td>\n",
       "      <td>GUJ</td>\n",
       "      <td>2</td>\n",
       "      <td>168.333333</td>\n",
       "      <td>302.30</td>\n",
       "    </tr>\n",
       "    <tr>\n",
       "      <th>4</th>\n",
       "      <td>5</td>\n",
       "      <td>40999999999999992652495293775872.0</td>\n",
       "      <td>1</td>\n",
       "      <td>41000</td>\n",
       "      <td>68</td>\n",
       "      <td>10</td>\n",
       "      <td>1</td>\n",
       "      <td>2</td>\n",
       "      <td>24</td>\n",
       "      <td>242</td>\n",
       "      <td>...</td>\n",
       "      <td>0.0</td>\n",
       "      <td>0.0</td>\n",
       "      <td>0.0</td>\n",
       "      <td>75.000000</td>\n",
       "      <td>945.249500</td>\n",
       "      <td>27.600713</td>\n",
       "      <td>GUJ</td>\n",
       "      <td>2</td>\n",
       "      <td>15.000000</td>\n",
       "      <td>148.00</td>\n",
       "    </tr>\n",
       "  </tbody>\n",
       "</table>\n",
       "<p>5 rows × 384 columns</p>\n",
       "</div>"
      ],
      "text/plain": [
       "   slno                                 grp  Round_Centre  FSU_number  Round  \\\n",
       "0     1  40999999999999992652495293775872.0             1       41000     68   \n",
       "1     2  40999999999999992652495293775872.0             1       41000     68   \n",
       "2     3  40999999999999992652495293775872.0             1       41000     68   \n",
       "3     4  40999999999999992652495293775872.0             1       41000     68   \n",
       "4     5  40999999999999992652495293775872.0             1       41000     68   \n",
       "\n",
       "   Schedule_Number  Sample  Sector  state  State_Region  ...  pickle_v  \\\n",
       "0               10       1       2     24           242  ...       0.0   \n",
       "1               10       1       2     24           242  ...       0.0   \n",
       "2               10       1       2     24           242  ...       0.0   \n",
       "3               10       1       2     24           242  ...       0.0   \n",
       "4               10       1       2     24           242  ...       0.0   \n",
       "\n",
       "   sauce_jam_v  Othrprocessed_v  Beveragestotal_v  foodtotal_v  foodtotal_q  \\\n",
       "0          0.0              0.0          0.000000  1141.492400    30.942394   \n",
       "1          0.0              0.0         17.500000  1244.553500    29.286153   \n",
       "2          0.0              0.0          0.000000  1050.315400    31.527046   \n",
       "3          0.0              0.0         33.333333  1142.591667    27.834607   \n",
       "4          0.0              0.0         75.000000   945.249500    27.600713   \n",
       "\n",
       "   state_1  Region  fruits_df_tt_v  fv_tot  \n",
       "0      GUJ       2       12.000000  154.18  \n",
       "1      GUJ       2      333.000000  484.95  \n",
       "2      GUJ       2       35.000000  214.84  \n",
       "3      GUJ       2      168.333333  302.30  \n",
       "4      GUJ       2       15.000000  148.00  \n",
       "\n",
       "[5 rows x 384 columns]"
      ]
     },
     "execution_count": 19,
     "metadata": {},
     "output_type": "execute_result"
    }
   ],
   "source": [
    "# Load the dataset\n",
    "df = pd.read_csv(\"/Users/aimanmagi/Desktop/R/NSSO68.csv\")\n",
    "df.head()"
   ]
  },
  {
   "cell_type": "code",
   "execution_count": 3,
   "id": "ce0ed7dc",
   "metadata": {},
   "outputs": [
    {
     "name": "stdout",
     "output_type": "stream",
     "text": [
      "slno              0\n",
      "grp               0\n",
      "Round_Centre      0\n",
      "FSU_number        0\n",
      "Round             0\n",
      "                 ..\n",
      "foodtotal_q       0\n",
      "state_1           0\n",
      "Region            0\n",
      "fruits_df_tt_v    0\n",
      "fv_tot            0\n",
      "Length: 384, dtype: int64\n"
     ]
    }
   ],
   "source": [
    "# Data preprocessing\n",
    "# Check for missing values\n",
    "print(df.isnull().sum())"
   ]
  },
  {
   "cell_type": "code",
   "execution_count": 4,
   "id": "68f715c7",
   "metadata": {},
   "outputs": [],
   "source": [
    "# Choose dependent and independent variables\n",
    "# Assuming 'MPCE_URP' (Monthly Per Capita Expenditure using Uniform Reference Period) is the dependent variable\n",
    "# and 'hhdsz' (household size) as one of the independent variables\n",
    "# You can choose other variables based on your analysis\n",
    "\n",
    "dependent_var = 'MPCE_URP'\n",
    "independent_vars = ['hhdsz', 'Age', 'Sex', 'Education']  # Add more variables as needed"
   ]
  },
  {
   "cell_type": "code",
   "execution_count": 5,
   "id": "b859af4f",
   "metadata": {},
   "outputs": [],
   "source": [
    "# Prepare the data for regression\n",
    "X = df[independent_vars]\n",
    "y = df[dependent_var]"
   ]
  },
  {
   "cell_type": "code",
   "execution_count": 6,
   "id": "585bf887",
   "metadata": {},
   "outputs": [
    {
     "data": {
      "text/html": [
       "<div>\n",
       "<style scoped>\n",
       "    .dataframe tbody tr th:only-of-type {\n",
       "        vertical-align: middle;\n",
       "    }\n",
       "\n",
       "    .dataframe tbody tr th {\n",
       "        vertical-align: top;\n",
       "    }\n",
       "\n",
       "    .dataframe thead th {\n",
       "        text-align: right;\n",
       "    }\n",
       "</style>\n",
       "<table border=\"1\" class=\"dataframe\">\n",
       "  <thead>\n",
       "    <tr style=\"text-align: right;\">\n",
       "      <th></th>\n",
       "      <th>hhdsz</th>\n",
       "      <th>Age</th>\n",
       "      <th>Sex</th>\n",
       "      <th>Education</th>\n",
       "    </tr>\n",
       "  </thead>\n",
       "  <tbody>\n",
       "    <tr>\n",
       "      <th>0</th>\n",
       "      <td>5</td>\n",
       "      <td>50</td>\n",
       "      <td>1</td>\n",
       "      <td>8.0</td>\n",
       "    </tr>\n",
       "    <tr>\n",
       "      <th>1</th>\n",
       "      <td>2</td>\n",
       "      <td>40</td>\n",
       "      <td>2</td>\n",
       "      <td>12.0</td>\n",
       "    </tr>\n",
       "    <tr>\n",
       "      <th>2</th>\n",
       "      <td>5</td>\n",
       "      <td>45</td>\n",
       "      <td>1</td>\n",
       "      <td>7.0</td>\n",
       "    </tr>\n",
       "    <tr>\n",
       "      <th>3</th>\n",
       "      <td>3</td>\n",
       "      <td>75</td>\n",
       "      <td>1</td>\n",
       "      <td>6.0</td>\n",
       "    </tr>\n",
       "    <tr>\n",
       "      <th>4</th>\n",
       "      <td>4</td>\n",
       "      <td>30</td>\n",
       "      <td>1</td>\n",
       "      <td>7.0</td>\n",
       "    </tr>\n",
       "  </tbody>\n",
       "</table>\n",
       "</div>"
      ],
      "text/plain": [
       "   hhdsz  Age  Sex  Education\n",
       "0      5   50    1        8.0\n",
       "1      2   40    2       12.0\n",
       "2      5   45    1        7.0\n",
       "3      3   75    1        6.0\n",
       "4      4   30    1        7.0"
      ]
     },
     "execution_count": 6,
     "metadata": {},
     "output_type": "execute_result"
    }
   ],
   "source": [
    "X.head()"
   ]
  },
  {
   "cell_type": "code",
   "execution_count": 7,
   "id": "9f65bb18",
   "metadata": {
    "scrolled": true
   },
   "outputs": [
    {
     "data": {
      "text/plain": [
       "0    3304.80\n",
       "1    7613.00\n",
       "2    3461.40\n",
       "3    3339.00\n",
       "4    2604.25\n",
       "Name: MPCE_URP, dtype: float64"
      ]
     },
     "execution_count": 7,
     "metadata": {},
     "output_type": "execute_result"
    }
   ],
   "source": [
    "y.head()"
   ]
  },
  {
   "cell_type": "code",
   "execution_count": 8,
   "id": "096f29e6",
   "metadata": {},
   "outputs": [],
   "source": [
    "# Handle missing values: Option 1 - Remove rows with missing values\n",
    "# X = X.dropna()\n",
    "# y = y.loc[X.index]"
   ]
  },
  {
   "cell_type": "code",
   "execution_count": 9,
   "id": "20428bdc",
   "metadata": {},
   "outputs": [],
   "source": [
    "# Add a constant to the independent variables matrix\n",
    "X = sm.add_constant(X)"
   ]
  },
  {
   "cell_type": "code",
   "execution_count": 10,
   "id": "160e5f60",
   "metadata": {},
   "outputs": [],
   "source": [
    "# Check for and remove any inf values\n",
    "X.replace([np.inf, -np.inf], np.nan, inplace=True)\n",
    "X.dropna(inplace=True)"
   ]
  },
  {
   "cell_type": "code",
   "execution_count": 11,
   "id": "65517cba",
   "metadata": {},
   "outputs": [],
   "source": [
    "# Check and ensure no NaN values remain\n",
    "if X.isnull().any().any():\n",
    "    raise ValueError(\"There are still NaN values in the independent variables matrix.\")"
   ]
  },
  {
   "cell_type": "code",
   "execution_count": 12,
   "id": "e8eecf28",
   "metadata": {},
   "outputs": [],
   "source": [
    "# Ensure dependent variable matches the cleaned X\n",
    "y = y.loc[X.index]"
   ]
  },
  {
   "cell_type": "code",
   "execution_count": 16,
   "id": "a2cb89b6",
   "metadata": {},
   "outputs": [],
   "source": [
    "# Define a custom Tobit model class\n",
    "class TobitModel(GenericLikelihoodModel):\n",
    "    def __init__(self, endog, exog, left=None, right=None, **kwargs):\n",
    "        self.left = left\n",
    "        self.right = right\n",
    "        super(TobitModel, self).__init__(endog, exog, **kwargs)\n",
    "\n",
    "    def nloglikeobs(self, params):\n",
    "        exog = self.exog\n",
    "        endog = self.endog\n",
    "        left = self.left\n",
    "        right = self.right\n",
    "\n",
    "        beta = params[:-1]\n",
    "        sigma = params[-1]\n",
    "        XB = np.dot(exog, beta)\n",
    "        \n",
    "        ll = np.zeros(len(endog))\n",
    "        \n",
    "        if left is not None:\n",
    "            cdf_left = (endog <= left).astype(int)\n",
    "            ll += cdf_left * np.log(1 - norm.cdf((left - XB) / sigma))\n",
    "        \n",
    "        if right is not None:\n",
    "            cdf_right = (endog >= right).astype(int)\n",
    "            ll += cdf_right * np.log(norm.cdf((right - XB) / sigma))\n",
    "        \n",
    "        uncensored = np.ones(len(endog), dtype=bool)\n",
    "        if left is not None:\n",
    "            uncensored &= (endog > left)\n",
    "        if right is not None:\n",
    "            uncensored &= (endog < right)\n",
    "        \n",
    "        ll[uncensored] = (norm.logpdf((endog[uncensored] - XB[uncensored]) / sigma) - np.log(sigma))\n",
    "\n",
    "        return -ll\n",
    "\n",
    "    def fit(self, start_params=None, maxiter=10000, maxfun=5000, **kwargs):\n",
    "        if start_params is None:\n",
    "            start_params = np.append(np.zeros(self.exog.shape[1]), 1)\n",
    "        return super(TobitModel, self).fit(start_params=start_params, maxiter=maxiter, maxfun=maxfun, **kwargs)\n"
   ]
  },
  {
   "cell_type": "code",
   "execution_count": 17,
   "id": "512bd6c5",
   "metadata": {},
   "outputs": [],
   "source": [
    "# Set left censoring at 0 (lower bound)\n",
    "left_censoring = 0"
   ]
  },
  {
   "cell_type": "code",
   "execution_count": 18,
   "id": "bc362e0b",
   "metadata": {},
   "outputs": [
    {
     "name": "stdout",
     "output_type": "stream",
     "text": [
      "Optimization terminated successfully.\n",
      "         Current function value: 9.750560\n",
      "         Iterations: 716\n",
      "         Function evaluations: 1151\n"
     ]
    },
    {
     "name": "stderr",
     "output_type": "stream",
     "text": [
      "C:\\Users\\gauri\\anaconda3\\Lib\\site-packages\\statsmodels\\base\\model.py:2742: UserWarning: df_model + k_constant + k_extra differs from k_params\n",
      "  warnings.warn(\"df_model + k_constant + k_extra \"\n",
      "C:\\Users\\gauri\\anaconda3\\Lib\\site-packages\\statsmodels\\base\\model.py:2746: UserWarning: df_resid differs from nobs - k_params\n",
      "  warnings.warn(\"df_resid differs from nobs - k_params\")\n"
     ]
    }
   ],
   "source": [
    "# Fit the Tobit model\n",
    "model = TobitModel(y, X, left=left_censoring)\n",
    "results = model.fit()"
   ]
  },
  {
   "cell_type": "code",
   "execution_count": 19,
   "id": "0e2bb9c9",
   "metadata": {},
   "outputs": [
    {
     "name": "stdout",
     "output_type": "stream",
     "text": [
      "                              TobitModel Results                              \n",
      "==============================================================================\n",
      "Dep. Variable:               MPCE_URP   Log-Likelihood:            -9.9119e+05\n",
      "Model:                     TobitModel   AIC:                         1.982e+06\n",
      "Method:            Maximum Likelihood   BIC:                         1.982e+06\n",
      "Date:                Sun, 30 Jun 2024                                         \n",
      "Time:                        09:13:00                                         \n",
      "No. Observations:              101655                                         \n",
      "Df Residuals:                  101650                                         \n",
      "Df Model:                           4                                         \n",
      "==============================================================================\n",
      "                 coef    std err          z      P>|z|      [0.025      0.975]\n",
      "------------------------------------------------------------------------------\n",
      "const        -19.3490     74.697     -0.259      0.796    -165.752     127.055\n",
      "hhdsz         25.5786      6.143      4.164      0.000      13.539      37.619\n",
      "Age           17.8512      0.993     17.971      0.000      15.904      19.798\n",
      "Sex         -209.4316     41.586     -5.036      0.000    -290.938    -127.925\n",
      "Education    205.3540      3.627     56.614      0.000     198.245     212.463\n",
      "par0        4154.2824      9.397    442.102      0.000    4135.865    4172.699\n",
      "==============================================================================\n"
     ]
    }
   ],
   "source": [
    "# Print the summary of the regression results\n",
    "print(results.summary())"
   ]
  },
  {
   "cell_type": "code",
   "execution_count": null,
   "id": "27470827",
   "metadata": {},
   "outputs": [],
   "source": []
  }
 ],
 "metadata": {
  "kernelspec": {
   "display_name": "Python 3 (ipykernel)",
   "language": "python",
   "name": "python3"
  },
  "language_info": {
   "codemirror_mode": {
    "name": "ipython",
    "version": 3
   },
   "file_extension": ".py",
   "mimetype": "text/x-python",
   "name": "python",
   "nbconvert_exporter": "python",
   "pygments_lexer": "ipython3",
   "version": "3.11.5"
  }
 },
 "nbformat": 4,
 "nbformat_minor": 5
}
